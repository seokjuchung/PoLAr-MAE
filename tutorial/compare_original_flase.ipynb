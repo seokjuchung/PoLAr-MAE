{
 "cells": [
  {
   "cell_type": "code",
   "execution_count": 40,
   "id": "e72fcb4c",
   "metadata": {},
   "outputs": [
    {
     "name": "stdout",
     "output_type": "stream",
     "text": [
      "Keys in the h5 file: ['labels']\n"
     ]
    }
   ],
   "source": [
    "import h5py\n",
    "import numpy as np\n",
    "\n",
    "# Read h5 file\n",
    "with h5py.File('/exp/sbnd/data/users/sc5303/inss2025/data/train_label_1e4.h5', 'r') as f:\n",
    "    # List all groups/datasets in the file\n",
    "    print(\"Keys in the h5 file:\", list(f.keys()))\n",
    "    \n",
    "    # Read data from the file\n",
    "    # Replace 'dataset_name' with the actual dataset name in your h5 file\n",
    "    label = f['labels'][:]\n",
    "    # point = f['point'][:]\n",
    "    \n",
    "\n"
   ]
  },
  {
   "cell_type": "code",
   "execution_count": 41,
   "id": "71146e9a-10da-4b26-ad17-fb5454c7da82",
   "metadata": {},
   "outputs": [
    {
     "name": "stdout",
     "output_type": "stream",
     "text": [
      "Keys in the h5 file: ['data']\n"
     ]
    }
   ],
   "source": [
    "import h5py\n",
    "import numpy as np\n",
    "\n",
    "# Read h5 file\n",
    "with h5py.File('/exp/sbnd/data/users/sc5303/inss2025/data/train_xyze_1e4.h5', 'r') as f:\n",
    "    # List all groups/datasets in the file\n",
    "    print(\"Keys in the h5 file:\", list(f.keys()))\n",
    "    \n",
    "    # Read data from the file\n",
    "    # Replace 'dataset_name' with the actual dataset name in your h5 file\n",
    "    # data = f['labels'][:]\n",
    "    point = f['data'][:]\n",
    "    \n",
    "\n"
   ]
  },
  {
   "cell_type": "code",
   "execution_count": 62,
   "id": "58bc99fc-0708-4edb-a945-e811f7d724e1",
   "metadata": {},
   "outputs": [],
   "source": [
    "idx = 0\n",
    "\n",
    "arr = point[idx].reshape(-1, 4)\n",
    "label_arr = label[idx]\n",
    "filtered_label = label_arr[arr[:, 3] > 0.13]"
   ]
  },
  {
   "cell_type": "code",
   "execution_count": 64,
   "id": "14cbc43c-d48c-428b-a062-645415b13087",
   "metadata": {},
   "outputs": [
    {
     "data": {
      "text/plain": [
       "(5524,)"
      ]
     },
     "execution_count": 64,
     "metadata": {},
     "output_type": "execute_result"
    }
   ],
   "source": [
    "filtered_label.shape"
   ]
  },
  {
   "cell_type": "code",
   "execution_count": 65,
   "id": "6b069515-9f39-40e0-88f6-d0120b49b8e8",
   "metadata": {},
   "outputs": [
    {
     "data": {
      "text/plain": [
       "array([4, 4, 4, ..., 2, 2, 2], dtype=int32)"
      ]
     },
     "execution_count": 65,
     "metadata": {},
     "output_type": "execute_result"
    }
   ],
   "source": [
    "filtered_label"
   ]
  },
  {
   "cell_type": "code",
   "execution_count": 57,
   "id": "6f83d158-30d2-4707-8109-1c2b22720c56",
   "metadata": {},
   "outputs": [
    {
     "data": {
      "image/png": "[encoded data removed]",
      "text/plain": [
       "<Figure size 640x480 with 1 Axes>"
      ]
     },
     "metadata": {},
     "output_type": "display_data"
    }
   ],
   "source": [
    "import matplotlib.pyplot as plt\n",
    "\n",
    "plt.hist(filtered_label)\n",
    "plt.show()"
   ]
  },
  {
   "cell_type": "code",
   "execution_count": 58,
   "id": "8250d77a-8a51-4612-942d-bdbeda9b2ca6",
   "metadata": {},
   "outputs": [],
   "source": [
    "test = np.sum([5524, 7197, 3001, 1981, 1350, 2583, 1668, 3212, 2828, 2206, 1541, 6193,\n",
    "        2030, 2120, 1503, 6234,  523, 2259, 1737, 3544, 3455, 2035, 2965, 3464,\n",
    "        4957, 5553, 2960, 1137, 2720, 5546, 2225, 4555])"
   ]
  },
  {
   "cell_type": "code",
   "execution_count": 59,
   "id": "37b26bef-27e4-4d4a-870a-453682b0e6c1",
   "metadata": {},
   "outputs": [
    {
     "data": {
      "text/plain": [
       "100806"
      ]
     },
     "execution_count": 59,
     "metadata": {},
     "output_type": "execute_result"
    }
   ],
   "source": [
    "test"
   ]
  },
  {
   "cell_type": "code",
   "execution_count": null,
   "id": "5898ed26-5415-4ef5-9366-d1542a3cf555",
   "metadata": {},
   "outputs": [],
   "source": []
  }
 ],
 "metadata": {
  "kernelspec": {
   "display_name": "Python 3 (ipykernel)",
   "language": "python",
   "name": "python3"
  },
  "language_info": {
   "codemirror_mode": {
    "name": "ipython",
    "version": 3
   },
   "file_extension": ".py",
   "mimetype": "text/x-python",
   "name": "python",
   "nbconvert_exporter": "python",
   "pygments_lexer": "ipython3",
   "version": "3.10.18"
  }
 },
 "nbformat": 4,
 "nbformat_minor": 5
}
